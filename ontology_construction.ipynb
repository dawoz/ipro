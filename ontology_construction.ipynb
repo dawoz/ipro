{
 "cells": [
  {
   "cell_type": "code",
   "execution_count": 1,
   "metadata": {},
   "outputs": [
    {
     "name": "stderr",
     "output_type": "stream",
     "text": [
      "* Owlready2 * Warning: optimized Cython parser module 'owlready2_optimized' is not available, defaulting to slower Python implementation\n"
     ]
    }
   ],
   "source": [
    "import owlready2 as owl\n",
    "import types\n",
    "import json\n",
    "from pprint import pprint as pp"
   ]
  },
  {
   "cell_type": "code",
   "execution_count": 2,
   "metadata": {},
   "outputs": [
    {
     "name": "stdout",
     "output_type": "stream",
     "text": [
      "[ipro.Album, ipro.Band, ipro.Bass, ipro.MusicalInstrument, ipro.Bassist, ipro.Musician, ipro.Discography, ipro.Drummer, ipro.Genre, ipro.Guitar, ipro.Guitarist, ipro.Keyboard, ipro.Keyboardist, ipro.Organ, ipro.Participation, ipro.Percussions, ipro.Piano, ipro.Singer, ipro.Song, ipro.Synthesizer, ipro.Vocals]\n"
     ]
    }
   ],
   "source": [
    "ipro = owl.get_ontology(\"file://ipro.owl\").load()\n",
    "print(list(ipro.classes()))"
   ]
  },
  {
   "cell_type": "code",
   "execution_count": 3,
   "metadata": {},
   "outputs": [
    {
     "name": "stdout",
     "output_type": "stream",
     "text": [
      "[ipro.Acqua_Fragile,\n",
      " ipro.Alphataurus,\n",
      " ipro.Analogy,\n",
      " ipro.Area,\n",
      " ipro.Arti_e_Mestieri,\n",
      " ipro.Banco_del_Mutuo_Soccorso,\n",
      " ipro.Blocco_Mentale,\n",
      " ipro.Cervello,\n",
      " ipro.De_De_Lind,\n",
      " ipro.Formula_3]\n"
     ]
    }
   ],
   "source": [
    "with open('wikidata/artists.json', 'r') as f:\n",
    "    wikidata_artists = json.load(f)\n",
    "\n",
    "with open('discogs/artists.json', 'r') as f:\n",
    "    tmp = json.load(f)\n",
    "    discogs_artists = {e['discogsID']: e['artist'] for e in tmp}\n",
    "\n",
    "with ipro:\n",
    "    class wikidata_id(ipro.Band >> str, owl.FunctionalProperty): pass\n",
    "    class discogs_id(ipro.Band >> str, owl.FunctionalProperty): pass\n",
    "    class progarchives_id(ipro.Band >> str, owl.FunctionalProperty): pass\n",
    "\n",
    "    for artist in wikidata_artists:\n",
    "        band = ipro.Band(artist['itemLabel']['value'].replace(' ', '_').replace('\\'', ''))\n",
    "        band.wikidata_id = artist['item']['value'].split('/')[-1]\n",
    "        band.discogs_id = artist['discogsId']['value']\n",
    "        band.progarchives_id = artist['progarchivesId']['value']\n",
    "        band.comment = [owl.locstr(discogs_artists[band.discogs_id]['profile'], lang = 'en')]\n",
    "        band.label = [owl.locstr(discogs_artists[band.discogs_id]['name'], lang = 'en')]\n",
    "\n",
    "pp(list(ipro.Band.instances())[:10])"
   ]
  },
  {
   "cell_type": "code",
   "execution_count": 4,
   "metadata": {},
   "outputs": [
    {
     "name": "stdout",
     "output_type": "stream",
     "text": [
      "ipro.Acqua_Fragile\n",
      "['Acqua Fragile was a progressive rock band from Parma, Italy. They were '\n",
      " 'formed in 1971 by three former members of Gli Immortali: singer and '\n",
      " 'guitarist [a=Bernardo Lanzetti], guitarist [a=Gino Campanini], and drummer '\n",
      " '[a=Piero Canavera]. They were joined by former [a3640528] bassist [a=Franz '\n",
      " 'Dondi] and keyboardist [a=Maurizio Mori]. After being spotted by the very '\n",
      " 'successful [a=Premiata Forneria Marconi] (PFM) they were signed to Numero '\n",
      " 'Uno. This Line-Up recorded two albums, a self titled debut (1973) and Mass '\n",
      " 'Media Stars (1974). Maurizio Mori left after the second album and was '\n",
      " 'replaced by [a=Joe Vescovi]. The Line-Up with Joe Vescovi appears on the '\n",
      " 'posthumously released Live In Emilia: Spring 75 (1994). Bernardo Lanzetti '\n",
      " 'left to join PFM in 1975 and was briefly replaced by [a=Roby Facini]. By the '\n",
      " 'end of the year the group had broken up. Since 2005 Franz Dondi played '\n",
      " 'material Live under the name Acqua Fragile Project. Reformation 2017, new '\n",
      " 'release A New Chant and Live activities with [a=Rossella Volta], [a=Stefano '\n",
      " 'Pantaleoni], Michelangelo Ferrilli. (10-2019)']\n",
      "'en'\n",
      "['Acqua Fragile']\n",
      "'en'\n",
      "'Q1056857'\n",
      "'1136505'\n",
      "'5'\n"
     ]
    }
   ],
   "source": [
    "# print all info of Acqua Fragile\n",
    "pp(ipro.Acqua_Fragile)\n",
    "pp(ipro.Acqua_Fragile.comment)\n",
    "pp(ipro.Acqua_Fragile.comment[0].lang)\n",
    "pp(ipro.Acqua_Fragile.label)\n",
    "pp(ipro.Acqua_Fragile.label[0].lang)\n",
    "pp(ipro.Acqua_Fragile.wikidata_id)\n",
    "pp(ipro.Acqua_Fragile.discogs_id)\n",
    "pp(ipro.Acqua_Fragile.progarchives_id)"
   ]
  }
 ],
 "metadata": {
  "interpreter": {
   "hash": "5383bea7fbc66744e4cbd2c4c492d62425b429832739986aced6760469bf6a35"
  },
  "kernelspec": {
   "display_name": "Python 3.8.13 ('modsem')",
   "language": "python",
   "name": "python3"
  },
  "language_info": {
   "codemirror_mode": {
    "name": "ipython",
    "version": 3
   },
   "file_extension": ".py",
   "mimetype": "text/x-python",
   "name": "python",
   "nbconvert_exporter": "python",
   "pygments_lexer": "ipython3",
   "version": "3.10.0"
  },
  "orig_nbformat": 4
 },
 "nbformat": 4,
 "nbformat_minor": 2
}
