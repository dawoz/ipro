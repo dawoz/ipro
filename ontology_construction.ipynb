{
 "cells": [
  {
   "cell_type": "markdown",
   "metadata": {},
   "source": [
    "# IPRO construction"
   ]
  },
  {
   "cell_type": "code",
   "execution_count": 1,
   "metadata": {},
   "outputs": [
    {
     "name": "stderr",
     "output_type": "stream",
     "text": [
      "* Owlready2 * Warning: optimized Cython parser module 'owlready2_optimized' is not available, defaulting to slower Python implementation\n"
     ]
    }
   ],
   "source": [
    "import owlready2 as owl\n",
    "import types\n",
    "import json\n",
    "import re\n",
    "from pprint import pprint as pp\n",
    "from num2words import num2words\n",
    "import networkx as nx\n",
    "from unidecode import unidecode"
   ]
  },
  {
   "cell_type": "markdown",
   "metadata": {},
   "source": [
    "## Load base Ontology\n",
    "handcrafted"
   ]
  },
  {
   "cell_type": "code",
   "execution_count": 2,
   "metadata": {},
   "outputs": [
    {
     "name": "stdout",
     "output_type": "stream",
     "text": [
      "##### get_ontology(\"http://ipro-semantic.com#\")\n",
      "[ipro.Release, ipro.Album, time.DurationDescription, ipro.Band, ipro.Bass, ipro.StringsPlucked, ipro.Bassist, ipro.Musician, ipro.BrassInstrument, ipro.MusicalInstrument, ipro.Discography, ipro.Drummer, ipro.Drums, ipro.PercussionInstrument, ipro.Effects, ipro.Genre, ipro.Guitar, ipro.Guitarist, ipro.Keyboard, ipro.Keyboardist, ipro.Organ, ipro.Participation, ipro.Percussions, ipro.Piano, ipro.ProductionRole, ipro.Singer, ipro.Strings, ipro.StringsDrawn, ipro.Synthesizer, ipro.Track, ipro.Vocals, ipro.WindInstrument]\n",
      "[time.minutes, time.seconds, ipro.ofAlbum, time.hasDuration, 1.1.creator, 1.1.date, 1.1.description, 1.1.title, vann.preferredNamespacePrefix, vann.preferredNamespaceUri] \n",
      "\n",
      "##### get_ontology(\"http://www.ontologydesignpatterns.org/cp/owl/list.owl#\")\n",
      "[list.List, list.ListItem]\n",
      "[list.lastItemOf, list.hasLastItem, list.firstItemOf, list.nextItem, list.previousItem, list.hasFirstItem] \n",
      "\n",
      "##### get_ontology(\"http://www.ontologydesignpatterns.org/cp/owl/bag.owl#\")\n",
      "[bag.Item, bag.Bag]\n",
      "[bag.size, bag.itemContent, bag.itemOf, bag.hasItem] \n",
      "\n",
      "##### get_ontology(\"http://www.ontologydesignpatterns.org/cp/owl/sequence.owl#\")\n",
      "[owl.Thing]\n",
      "[sequence.directlyFollows, sequence.directlyPrecedes, sequence.follows, sequence.precedes, rdf-schema.comment, rdf-schema.label, rdf-schema.isDefinedBy, owl.versionInfo, cpannotationschema.coversRequirements, cpannotationschema.hasAuthor, cpannotationschema.hasIntent, cpannotationschema.extractedFrom, cpannotationschema.hasConsequences] \n",
      "\n",
      "get_ontology(\"http://ipro-semantic.com#\").get_namespace(\"http://www.w3.org/2006/time#\")\n",
      "time.DurationDescription\n"
     ]
    }
   ],
   "source": [
    "ipro = owl.get_ontology(\"file://ipro.owl\").load()\n",
    "print('#####', ipro)\n",
    "print(list(ipro.classes()))\n",
    "print(list(ipro.properties()),'\\n')\n",
    "\n",
    "list_onto = ipro.imported_ontologies[0]\n",
    "print('#####', list_onto)\n",
    "print(list(list_onto.classes()))\n",
    "print(list(list_onto.properties()),'\\n')\n",
    "\n",
    "bag_onto = list_onto.imported_ontologies[0]\n",
    "print('#####', bag_onto)\n",
    "print(list(bag_onto.classes()))\n",
    "print(list(bag_onto.properties()),'\\n')\n",
    "\n",
    "sequence_onto = list_onto.imported_ontologies[1]\n",
    "print('#####', sequence_onto)\n",
    "print(list(sequence_onto.classes()))\n",
    "print(list(sequence_onto.properties()),'\\n')\n",
    "\n",
    "time = ipro.get_namespace('http://www.w3.org/2006/time')\n",
    "print(time)\n",
    "print(time.DurationDescription)"
   ]
  },
  {
   "cell_type": "markdown",
   "metadata": {},
   "source": [
    "### Helper function to generate identifiers"
   ]
  },
  {
   "cell_type": "code",
   "execution_count": 3,
   "metadata": {},
   "outputs": [],
   "source": [
    "def str2identifier(s):\n",
    "    s_ = unidecode(s)\n",
    "    s_ = re.sub(r'[^a-zA-Z0-9\\'\\-_ ]', r'', s_)\n",
    "    s_ = re.sub(r'[\\'\\- ]+', r'_', s_)\n",
    "    assert '__' not in s_\n",
    "    return s_.strip('_')"
   ]
  },
  {
   "cell_type": "markdown",
   "metadata": {},
   "source": [
    "## Insert bands and discographies"
   ]
  },
  {
   "cell_type": "code",
   "execution_count": 4,
   "metadata": {},
   "outputs": [
    {
     "name": "stdout",
     "output_type": "stream",
     "text": [
      "[ipro.Acqua_Fragile, ipro.Alphataurus, ipro.Analogy, ipro.Area, ipro.Arti_e_Mestieri, ipro.Banco_del_Mutuo_Soccorso, ipro.Blocco_Mentale, ipro.Cervello, ipro.De_De_Lind, ipro.Formula_3]\n"
     ]
    }
   ],
   "source": [
    "with open('wikidata/artists.json', 'r') as f:\n",
    "    wikidata_artists = json.load(f)\n",
    "\n",
    "with open('discogs/artists.json', 'r') as f:\n",
    "    tmp = json.load(f)\n",
    "    discogs_artists = {e['discogsID']: e['artist'] for e in tmp}\n",
    "\n",
    "with open('progarchives/biographies.json', 'r') as f:\n",
    "    progarchives_bios = json.load(f)\n",
    "\n",
    "with ipro:\n",
    "    class wikidataIri(owl.Thing >> str, owl.FunctionalProperty, owl.InverseFunctionalProperty):\n",
    "        label = [owl.locstr('Wikidata IRI', lang = 'en')]\n",
    "        comment = [owl.locstr('Link to Wikidata IRI', lang = 'en')]\n",
    "    class discogsId(owl.Thing >> str, owl.FunctionalProperty, owl.InverseFunctionalProperty):\n",
    "        label = [owl.locstr('Discogs ID', lang = 'en')]\n",
    "        comment = [owl.locstr('Link to Discogs ID', lang = 'en')]\n",
    "    class progarchivesId(owl.Thing >> str, owl.FunctionalProperty, owl.InverseFunctionalProperty):\n",
    "        label = [owl.locstr('Progarchives ID', lang = 'en')]\n",
    "        comment = [owl.locstr('Link to Progarchives ID', lang = 'en')]\n",
    "    class imageUrl(owl.Thing >> str):\n",
    "        label = [owl.locstr('Image URL', lang = 'en')]\n",
    "        comment = [owl.locstr('Link to image URL', lang = 'en')]\n",
    "\n",
    "    class activeSinceYear(ipro.Band >> int, owl.FunctionalProperty):\n",
    "        label = [owl.locstr('Active since year', lang = 'en')]\n",
    "        comment = [owl.locstr('Indicates the year since the band was active', lang = 'en')]\n",
    "    class discography(ipro.Band >> ipro.Discography, owl.FunctionalProperty):\n",
    "        label = [owl.locstr('Discography', lang = 'en')]\n",
    "        comment = [owl.locstr('Link to the discography of the band', lang = 'en')]\n",
    "    class discographyOf(ipro.Discography >> ipro.Band, owl.FunctionalProperty):\n",
    "        inverse_property = ipro.discography\n",
    "        label = [owl.locstr('Discography of', lang = 'en')]\n",
    "        comment = [owl.locstr('Link to the band that has the discography', lang = 'en')]\n",
    "\n",
    "    for artist in wikidata_artists:\n",
    "        band = ipro.Band(str2identifier(artist['itemLabel']['value']))\n",
    "        band.wikidataIri = artist['item']['value']\n",
    "        band.discogsId = artist['discogsId']['value']\n",
    "        band.progarchivesId = artist['progarchivesId']['value']\n",
    "        band.comment = [owl.locstr(progarchives_bios[band.progarchivesId], lang = 'en')]\n",
    "        band.label = [owl.locstr(discogs_artists[band.discogsId]['name'], lang = 'en')]\n",
    "        band.activeSinceYear = int(artist['inizio']['value'].split('-')[0])\n",
    "        band.imageUrl.append(discogs_artists[band.discogsId]['images'][0]['uri'])\n",
    "\n",
    "        band.discography = ipro.Discography(str2identifier(artist['itemLabel']['value']) + '_discography')\n",
    "        band.discography.label = [owl.locstr(f'Discography of {band.label[0]}', lang = 'en')]\n",
    "        band.discography.comment = [owl.locstr(f'Discography of Italian progressive rock band {band.label[0]}', lang = 'en')]\n",
    "\n",
    "print(list(ipro.Band.instances())[:10])"
   ]
  },
  {
   "cell_type": "code",
   "execution_count": 5,
   "metadata": {},
   "outputs": [
    {
     "name": "stdout",
     "output_type": "stream",
     "text": [
      "ipro.Acqua_Fragile\n",
      "['Founded in Parma, Italy in 1971 - Disbanded in 1975 - Reformed 2004-2006 and in 2017 as \"Acqua Fragile Project\".\\nThey are perhaps best known for the band that were to supply PFM\\'s English singing vocalist Bernado Lanzetti, making his debut with them on Chocolate Kings.\\nLanzetti with guitarist Gino Campanini and drummer Piero Canavera had played together in Gli Immortali. Joined on keyboards by Maurizio Mori and bassist Franz Dondi, formerly of I Moschettieri, who released a single in 1967, they shortly changed their name to ACQUA FRAGILE.\\nIt was to be two years before their eponymous debut album saw the light of day, due to difficulty in finding a record company that would allow them to release it with English sung lyrics. Musically they bore a resemblance to GENESIS and GENTLE GIANT, with harmony vocals not unlike CROSBY, STILLS, NASH AND YOUNG, no doubt influenced by the time Lanzetti spent in the USA. Lanzetti\\'s vocals have a similar feel to Roger Chapman of FAMILY and the album is skilfully played by the already at the time, well versed players. The plan to sing in English backfired as it wasn\\'t well received in Italy and didn\\'t receive a release abroad. Undeterred, their second album Mass Media Stars, released in 1974 saw the band treading similar musical territory and did receive a release in the USA.\\nMori quit and was replaced by ex-THE TRIP keyboardist Joe Vescovi and shortly after a bigger blow came when Lanzetti left for PFM. The band soldiered on for a while longer bringing in former I TOP 4 and I DIK DIK man Roberto Facini. Lanzetti remained with PFM until 1980 followed by a successful solo career. He is now a member of MANGALA VALLIS. Canavera and Dondi went on to play with ROCKY\\'S FILJ and the ACQUA FRAGILE name has recently been reborn as the ACQUA FRAGILE PROJECT by Dondi. He is the only original member participating in the project.']\n",
      "en\n",
      "['Acqua Fragile']\n",
      "en\n",
      "http://www.wikidata.org/entity/Q1056857\n",
      "1136505\n",
      "5\n",
      "1971\n",
      "['https://i.discogs.com/MpxhtEsg2xyg41bTtCv8fdMRdpjPLCPPaX701Z6tEOU/rs:fit/g:sm/q:90/h:468/w:494/czM6Ly9kaXNjb2dz/LWRhdGFiYXNlLWlt/YWdlcy9BLTExMzY1/MDUtMTI0MTA0MzA3/NS5qcGVn.jpeg']\n",
      "ipro.Acqua_Fragile_discography\n"
     ]
    }
   ],
   "source": [
    "# print all info of Acqua Fragile\n",
    "print(ipro.Acqua_Fragile)\n",
    "print(ipro.Acqua_Fragile.comment)\n",
    "print(ipro.Acqua_Fragile.comment[0].lang)\n",
    "print(ipro.Acqua_Fragile.label)\n",
    "print(ipro.Acqua_Fragile.label[0].lang)\n",
    "print(ipro.Acqua_Fragile.wikidataIri)\n",
    "print(ipro.Acqua_Fragile.discogsId)\n",
    "print(ipro.Acqua_Fragile.progarchivesId)\n",
    "print(ipro.Acqua_Fragile.activeSinceYear)\n",
    "print(ipro.Acqua_Fragile.imageUrl)\n",
    "print(ipro.Acqua_Fragile.discography)"
   ]
  },
  {
   "cell_type": "markdown",
   "metadata": {},
   "source": [
    "## Insert genres"
   ]
  },
  {
   "cell_type": "code",
   "execution_count": 6,
   "metadata": {},
   "outputs": [],
   "source": [
    "with open('discogs/genres.json', 'r') as f:\n",
    "    genres = json.load(f)\n",
    "\n",
    "with open('dbpedia/genres2dbpedia_iri.json', 'r') as f:\n",
    "    genres2dbpedia_iri = json.load(f)\n",
    "\n",
    "G = nx.read_edgelist('dbpedia/genre.edgelist')\n",
    "\n",
    "with ipro:\n",
    "    class hasSubgenre(ipro.Genre >> ipro.Genre):\n",
    "        label = [owl.locstr('Has subgenre', lang = 'en')]\n",
    "        comment = [owl.locstr('Link to subgenre', lang = 'en')]\n",
    "    class influences(ipro.Genre >> ipro.Genre, owl.TransitiveProperty):\n",
    "        label = [owl.locstr('Influences', lang = 'en')]\n",
    "        comment = [owl.locstr('Link to influenced genre', lang = 'en')]\n",
    "    class dbpediaIri(ipro.Genre >> str, owl.FunctionalProperty, owl.InverseFunctionalProperty):\n",
    "        label = [owl.locstr('DBpedia IRI', lang = 'en')]\n",
    "        comment = [owl.locstr('Link to DBpedia IRI', lang = 'en')]\n",
    "\n",
    "    for gen, comment in genres.items():\n",
    "        genre_name = gen.replace('+',' ').title()\n",
    "        genre = ipro.Genre(str2identifier(genre_name))\n",
    "        genre.label = [owl.locstr(genre_name, lang = 'en')]\n",
    "        genre.comment = [owl.locstr(comment, lang = 'en')]\n",
    "        genre.dbpediaIri = genres2dbpedia_iri[gen]\n",
    "\n",
    "    for i,j,prop in G.edges.data('property'):\n",
    "        i_name = str2identifier(i.replace('+',' ').title())\n",
    "        j_name = str2identifier(j.replace('+',' ').title())\n",
    "        if prop == 'influences':\n",
    "            ipro[i_name].influences.append(ipro[j_name])\n",
    "        elif prop == 'hasSubgenre':\n",
    "            ipro[i_name].hasSubgenre.append(ipro[j_name])\n",
    "        else:\n",
    "            raise ValueError(f'Unknown property {prop}')\n"
   ]
  },
  {
   "cell_type": "markdown",
   "metadata": {},
   "source": [
    "## Manual fixes"
   ]
  },
  {
   "cell_type": "code",
   "execution_count": 7,
   "metadata": {},
   "outputs": [],
   "source": [
    "#################################\n",
    "#         MANUAL FIXES          #\n",
    "#################################\n",
    "\n",
    "# with open('discogs/releases.json', 'r') as f:\n",
    "#     discogs_id2releases = {e['discogsID']: e['releases'] for e in json.load(f)}\n",
    "\n",
    "# with open('discogs/release_details.json', 'r') as f:\n",
    "#     discogs_id2release_details = {e['releaseID']: e['master'] for e in json.load(f)}\n",
    "\n",
    "# with open('progarchives/albums.json', 'r') as f:\n",
    "#     progarchives_id2albums = json.load(f)\n",
    "\n",
    "# with open('progarchives/map2discogs_id.json', 'r') as f:\n",
    "#     progarchives2discogs_id = json.load(f)\n",
    "\n",
    "# for band in ipro.Band.instances():\n",
    "#     for progarchives_album in progarchives_id2albums[band.progarchivesId]:\n",
    "#         if progarchives_album['progarchivesId'] in progarchives2discogs_id:\n",
    "#             continue\n",
    "#         try:\n",
    "#             discogs_album = [rel for rel in discogs_id2releases[band.discogsId] if str2identifier(progarchives_album['title']) in str2identifier(rel['title'])][0]\n",
    "#             progarchives2discogs_id[progarchives_album['progarchivesId']] = discogs_album['id']\n",
    "#         except IndexError:\n",
    "#             progarchives2discogs_id[progarchives_album['progarchivesId']] = f'FIX ##################### {band.label[0]} - {progarchives_album[\"title\"]}'\n",
    "\n",
    "# with open('progarchives/map2discogs_id.json', 'w+') as f:\n",
    "#     json.dump(progarchives2discogs_id, f)"
   ]
  },
  {
   "cell_type": "markdown",
   "metadata": {},
   "source": [
    "## Insert instruments"
   ]
  },
  {
   "cell_type": "code",
   "execution_count": 8,
   "metadata": {},
   "outputs": [
    {
     "name": "stdout",
     "output_type": "stream",
     "text": [
      "ipro.Backing_Vocals_instrument\n",
      "ipro.Vocals_instrument\n",
      "ipro.Minimoog_Synthesizer_instrument\n",
      "ipro.Arp_2600_Synthesizer_instrument\n",
      "ipro.Arp_Solina_Synth_instrument\n",
      "ipro.Moog_Synthesizer_instrument\n",
      "ipro.Ems_Synthesizer_instrument\n",
      "ipro.Vcs_Synthesizer_instrument\n",
      "ipro.Arp_Synthesizer_instrument\n",
      "ipro.Eminent_Synthesizer_instrument\n",
      "ipro.Synthesizer_instrument\n"
     ]
    }
   ],
   "source": [
    "with open('progarchives/instruments.json', 'r', encoding='utf-8') as f:\n",
    "    progarchives_instruments = {k.lower(): v for k,v in json.load(f).items()}\n",
    "\n",
    "with open('progarchives/instruments_comment.json', 'r', encoding='utf-8') as f:\n",
    "    progarchives_instruments_comment = {k.lower(): v for k,v in json.load(f).items()}\n",
    "\n",
    "with ipro:\n",
    "    for instrument_label, comment in progarchives_instruments_comment.items():\n",
    "        category = progarchives_instruments[instrument_label]\n",
    "\n",
    "        instrument = ipro[category](str2identifier(instrument_label.title() + ('_instrument' if category != 'ProductionRole' else '_role')))\n",
    "\n",
    "        instrument.label = [owl.locstr(instrument_label.title(), lang = 'en')]\n",
    "        instrument.comment = [owl.locstr(comment, lang = 'en')]\n",
    "\n",
    "    for i,instr in enumerate(ipro.MusicalInstrument.instances()):\n",
    "        print(instr)\n",
    "        if i == 10:\n",
    "            break"
   ]
  },
  {
   "cell_type": "code",
   "execution_count": 9,
   "metadata": {},
   "outputs": [],
   "source": [
    "with open('progarchives/map2discogs_id.json', 'r') as f:\n",
    "    progarchives2discogs_id = json.load(f)\n",
    "\n",
    "with open('discogs/release_details.json', 'r') as f:\n",
    "    tmp = json.load(f)\n",
    "    discogs_releases = {e['releaseID']: e['master'] for e in tmp}\n",
    "    del tmp\n",
    "\n",
    "with open('progarchives/albums.json', 'r') as f:\n",
    "    progarchives_id2albums = json.load(f)\n",
    "\n",
    "with open('progarchives/tracks.json', 'r') as f:\n",
    "    progarchives_albumid2tracks = json.load(f)\n",
    "\n",
    "with open('progarchives/members.json', 'r') as f:\n",
    "    progarchives_members = json.load(f)\n",
    "\n",
    "with ipro:\n",
    "    class containsRelease(ipro.Discography >> ipro.Release, bag_onto.hasItem):\n",
    "        label = [owl.locstr('Contains release', lang = 'en')]\n",
    "        comment = [owl.locstr('Link to release of discography', lang = 'en')]\n",
    "    class releaseOf(owl.ObjectProperty):\n",
    "        inverse_property = ipro.containsRelease\n",
    "        label = [owl.locstr('Release of', lang = 'en')]\n",
    "        comment = [owl.locstr('Link to discography', lang = 'en')]\n",
    "    class previousRelease(ipro.Release >> ipro.Release, list_onto.previousItem, owl.FunctionalProperty):\n",
    "        label = [owl.locstr('Previous release', lang = 'en')]\n",
    "        comment = [owl.locstr('Link to previous release of discography', lang = 'en')]\n",
    "    class nextRelease(ipro.Release >> ipro.Release, list_onto.nextItem, owl.FunctionalProperty):\n",
    "        inverse_property = ipro.previousRelease\n",
    "        label = [owl.locstr('Next release', lang = 'en')]\n",
    "        comment = [owl.locstr('Link to next release of discography', lang = 'en')]\n",
    "    class releaseYear(ipro.Release >> int, owl.FunctionalProperty):\n",
    "        label = [owl.locstr('Release year', lang = 'en')]\n",
    "        comment = [owl.locstr('Year of publishment of the release', lang = 'en')]\n",
    "\n",
    "    class hasGenre(ipro.Album >> ipro.Genre):\n",
    "        label = [owl.locstr('Has genre', lang = 'en')]\n",
    "        comment = [owl.locstr('Link to a genre of the album', lang = 'en')]\n",
    "\n",
    "    class containsTrack(ipro.Album >> ipro.Track, bag_onto.hasItem):\n",
    "        label = [owl.locstr('Contains track', lang = 'en')]\n",
    "        comment = [owl.locstr('Link to a track of the album', lang = 'en')]\n",
    "    class trackOf(owl.ObjectProperty):\n",
    "        inverse_property = ipro.containsTrack\n",
    "        label = [owl.locstr('Track of', lang = 'en')]\n",
    "        comment = [owl.locstr('Link to album', lang = 'en')]\n",
    "    class previousTrack(ipro.Track >> ipro.Track, list_onto.previousItem, owl.FunctionalProperty):\n",
    "        label = [owl.locstr('Previous track', lang = 'en')]\n",
    "        comment = [owl.locstr('Link to previous track of the album', lang = 'en')]\n",
    "    class nextTrack(ipro.Track >> ipro.Track, list_onto.nextItem, owl.FunctionalProperty):\n",
    "        inverse_property = ipro.previousTrack\n",
    "        label = [owl.locstr('Next track', lang = 'en')]\n",
    "        comment = [owl.locstr('Link to next track of the album', lang = 'en')]\n",
    "    class trackNumber(ipro.Track >> int, owl.FunctionalProperty):\n",
    "        label = [owl.locstr('Track number', lang = 'en')]\n",
    "        comment = [owl.locstr('Track number in the album', lang = 'en')]\n",
    "\n",
    "    class participatedIn(ipro.Musician >> ipro.Participation):\n",
    "        label = [owl.locstr('Participated in', lang = 'en')]\n",
    "        comment = [owl.locstr('Link to a participation of the musician', lang = 'en')]\n",
    "    class withInstrument(ipro.Participation >> ipro.MusicalInstrument):\n",
    "        label = [owl.locstr('With instrument', lang = 'en')]\n",
    "        comment = [owl.locstr('Link to an instrument of the participation', lang = 'en')]\n",
    "    class withProductionRole(ipro.Participation >> ipro.ProductionRole):\n",
    "        label = [owl.locstr('With production role', lang = 'en')]\n",
    "        comment = [owl.locstr('Link to a production role of the participation', lang = 'en')]\n",
    "    class inAlbum(ipro.Participation >> ipro.Album, owl.FunctionalProperty):\n",
    "        label = [owl.locstr('In album', lang = 'en')]\n",
    "        comment = [owl.locstr('Link to the album of the participation', lang = 'en')]\n",
    "\n",
    "    class hasMusician(ipro.Band >> ipro.Musician):\n",
    "        label = [owl.locstr('Has musician', lang = 'en')]\n",
    "        comment = [owl.locstr('Link to a musician of the band', lang = 'en')]\n",
    "    class musicianOf(ipro.Musician >> ipro.Band):\n",
    "        inverse_property = ipro.hasMusician\n",
    "        label = [owl.locstr('Musician of', lang = 'en')]\n",
    "        comment = [owl.locstr('Link to a band of the musician', lang = 'en')]\n",
    "\n",
    "    ipro.Discography.equivalent_to.append(ipro.containsRelease.some(ipro.Release))\n",
    "\n",
    "    for band in ipro.Band.instances():\n",
    "        prev_release = None\n",
    "        for i, rel in enumerate(progarchives_id2albums[band.progarchivesId]):\n",
    "            album_name = discogs_releases[progarchives2discogs_id[rel['progarchivesId']]]['title']\n",
    "            release = ipro.Release(str2identifier(album_name) + '_release')\n",
    "            release.label = [owl.locstr(album_name + ' studio release', lang = 'en')]\n",
    "            release.comment = [owl.locstr(f'{release.label[0]} is the {num2words(i+1, ordinal=True)} release of {band.label[0]}, published in {rel[\"year\"]}', lang = 'en')]\n",
    "            release.releaseYear = rel['year']\n",
    "            band.discography.containsRelease.append(release)\n",
    "            if prev_release:\n",
    "                assert prev_release.releaseYear <= release.releaseYear, \"Previous album release year is greater than current album release year\"\n",
    "                prev_release.nextRelease = release\n",
    "            prev_release = release\n",
    "\n",
    "            # insert album info\n",
    "            album = ipro.Album(str2identifier(album_name) + '_album')\n",
    "            album.label = [owl.locstr(album_name, lang = 'en')]\n",
    "            album.comment = [owl.locstr(f'{album.label[0]} is the {num2words(i+1, ordinal=True)} album of {band.label[0]} released in {rel[\"year\"]}', lang = 'en')]\n",
    "            album.progarchivesId = rel['progarchivesId']\n",
    "            album.discogsId = str(progarchives2discogs_id[rel['progarchivesId']])\n",
    "            image_url = discogs_releases[progarchives2discogs_id[rel['progarchivesId']]]['images'][0]['uri']\n",
    "            if image_url:\n",
    "                album.imageUrl = [image_url]\n",
    "            release.ofAlbum = album\n",
    "            \n",
    "            # insert album genres\n",
    "            genres = discogs_releases[progarchives2discogs_id[rel['progarchivesId']]]['genres'] + discogs_releases[progarchives2discogs_id[rel['progarchivesId']]]['styles']\n",
    "            for g in genres:\n",
    "                g_name = str2identifier(g.title())\n",
    "                if not ipro[g_name]:\n",
    "                    print(g_name)\n",
    "                album.hasGenre.append(ipro[g_name])\n",
    "            \n",
    "            # insert album tracks\n",
    "            prev_track = None\n",
    "            for i, tr in enumerate(progarchives_albumid2tracks[album.progarchivesId]['tracks']):\n",
    "                \n",
    "                track_name = str2identifier(tr[0]) + '_track'\n",
    "                counter = 1\n",
    "                while True:\n",
    "                    if ipro[track_name]:  # exists\n",
    "                        track_name = str2identifier(tr[0]) + f'_track{counter}'\n",
    "                        counter += 1\n",
    "                    else:  # not exists, OK\n",
    "                        track = ipro.Track(track_name)\n",
    "                        break\n",
    "                \n",
    "                track.label = [owl.locstr(tr[0], lang = 'en')]\n",
    "                track.comment = [owl.locstr(f'{track.label[0]} is the {num2words(i+1, ordinal=True)} track of {album.label[0]} album', lang = 'en')]\n",
    "\n",
    "                duration_track = time.DurationDescription(str2identifier(tr[0]) + '_track_duration')\n",
    "                track.hasDuration.append(duration_track)\n",
    "                duration_track.label = [owl.locstr(f'{track.label[0]} track duration', lang = 'en')]\n",
    "                duration_track.comment = [owl.locstr(f'Duration of {track.label[0]} track', lang = 'en')]\n",
    "                duration_track.minutes.append(int(tr[1].split(':')[0]))\n",
    "                duration_track.seconds.append(int(tr[1].split(':')[1]))\n",
    "\n",
    "                track.trackNumber = i+1\n",
    "                album.containsTrack.append(track)\n",
    "\n",
    "                if prev_track:\n",
    "                    assert prev_track.trackNumber < track.trackNumber, \"Previous track number is greater than current track number\"\n",
    "                    prev_track.nextTrack = track\n",
    "                prev_track = track\n",
    "\n",
    "                duration_album = time.DurationDescription(str2identifier(album_name) + '_album_duration')\n",
    "                album.hasDuration.append(duration_album)\n",
    "                duration_album.label = [owl.locstr(f'{album.label[0]} album duration', lang = 'en')]\n",
    "                duration_album.comment = [owl.locstr(f'Duration of {album.label[0]} album', lang = 'en')]\n",
    "                duration_album.minutes.append(int(progarchives_albumid2tracks[album.progarchivesId]['total_time'].split(':')[0]))\n",
    "                duration_album.seconds.append(int(progarchives_albumid2tracks[album.progarchivesId]['total_time'].split(':')[1]))\n",
    "\n",
    "                # insert musicians\n",
    "                for musician_label, instruments in progarchives_members[band.progarchivesId][album.progarchivesId].items():\n",
    "                    if not ipro[str2identifier(musician_label)]:\n",
    "                        musician = ipro.Musician(str2identifier(musician_label))\n",
    "                        musician.label = [owl.locstr(musician_label, lang = 'en')]\n",
    "                    else:\n",
    "                        musician = ipro[str2identifier(musician_label)]    \n",
    "\n",
    "                    band.hasMusician.append(musician)\n",
    "                    participation = ipro.Participation(musician.get_name() + '_' + album.get_name().replace('_album','') +'_participation')\n",
    "                    participation.label = [owl.locstr(f'{musician.label[0]}\\'s participation to {album.label[0]}', lang = 'en')]\n",
    "                    participation.comment = [owl.locstr(f'{musician.label[0]}\\'s participation to the album {album.label[0]} of the band {band.label[0]}', lang = 'en')]\n",
    "                    musician.participatedIn.append(participation)\n",
    "                    participation.inAlbum = album\n",
    "\n",
    "                    # insert every instrument\n",
    "                    participation.withInstrument = [ipro[str2identifier(instrument.title()) + '_instrument'] for instrument in instruments if ipro[str2identifier(instrument.title()) + '_instrument']]\n",
    "                    participation.withProductionRole = [ipro[str2identifier(role.title()) + '_role'] for role in instruments if ipro[str2identifier(role.title()) + '_role']]\n",
    "                    assert len(instruments) == (len(participation.withInstrument) + len(participation.withProductionRole)), f\"Instrument count is not equal to participation count\\n\""
   ]
  },
  {
   "cell_type": "markdown",
   "metadata": {},
   "source": [
    "## Insert comment for musician"
   ]
  },
  {
   "cell_type": "code",
   "execution_count": 10,
   "metadata": {},
   "outputs": [],
   "source": [
    "with ipro:\n",
    "    for musician in ipro.Musician.instances():\n",
    "        bands = [b.label[0] for b in musician.musicianOf]\n",
    "        assert len(bands) > 0, \"Musician is not in any band\"\n",
    "        musician.comment = [owl.locstr(f'{musician.label[0]} is a musician, part of {\", \".join(bands)}', lang = 'en')]"
   ]
  },
  {
   "cell_type": "markdown",
   "metadata": {},
   "source": [
    "## Other components"
   ]
  },
  {
   "cell_type": "code",
   "execution_count": 11,
   "metadata": {},
   "outputs": [],
   "source": [
    "with ipro:\n",
    "    class playsInstrument(owl.ObjectProperty):\n",
    "        property_chain = [owl.PropertyChain([ipro.participatedIn, ipro.withInstrument])]\n",
    "    class playsRole(owl.ObjectProperty):\n",
    "        property_chain = [owl.PropertyChain([ipro.participatedIn, ipro.withProductionRole])]\n",
    "\n",
    "    # definite class for Keyboardist\n",
    "    ipro.Keyboardist.equivalent_to.append(ipro.participatedIn.some(ipro.withInstrument.some(ipro.Keyboard)))\n",
    "\n",
    "    # definite class for Drummer\n",
    "    ipro.Drummer.equivalent_to.append(ipro.participatedIn.some(ipro.withInstrument.some(ipro.PercussionInstrument)))\n",
    "\n",
    "    # definite class for Guitarist\n",
    "    ipro.Guitarist.equivalent_to.append(ipro.participatedIn.some(ipro.withInstrument.some(ipro.Guitar)))\n",
    "\n",
    "    # definite class for Bassist\n",
    "    ipro.Bassist.equivalent_to.append(ipro.participatedIn.some(ipro.withInstrument.some(ipro.Bass)))\n",
    "\n",
    "    # definite class for Singer\n",
    "    ipro.Singer.equivalent_to.append(ipro.participatedIn.some(ipro.withInstrument.some(ipro.Vocal)))\n",
    "\n",
    "    # definite class for Band\n",
    "    ipro.Band.equivalent_to.append(ipro.discography.exactly(1,ipro.Discography))\n",
    "\n",
    "    # dul = owl.get_ontology('http://www.ontologydesignpatterns.org/ont/dul/DUL.owl').load()\n",
    "    # ipro.imported_ontologies.append(dul)\n",
    "\n",
    "    # ipro.Release.is_a.append(dul.InformationObject)\n",
    "    # ipro.Album.is_a.append(dul.ObjectAggregate)\n",
    "    # ipro.Band.is_a.append(dul.Group)\n",
    "    # ipro.Musician.is_a.append(dul.Agent)\n",
    "    # ipro.MusicalInstrument.is_a.append(dul.DesignedArtifact)\n",
    "    # ipro.Discography.is_a.append(dul.ObjectAggregate)\n",
    "    # ipro.Genre.is_a.append(dul.Collection)\n",
    "    # ipro.Participation.is_a.append(dul.Action)\n",
    "    # ipro.ProductionRole.is_a.append(dul.Agent)\n",
    "    # ipro.Track.is_a.append(dul.InformationObject)"
   ]
  },
  {
   "cell_type": "markdown",
   "metadata": {},
   "source": [
    "## END: save ontology"
   ]
  },
  {
   "cell_type": "code",
   "execution_count": 12,
   "metadata": {},
   "outputs": [],
   "source": [
    "ipro.save('ipro_generated.owl')"
   ]
  }
 ],
 "metadata": {
  "interpreter": {
   "hash": "5383bea7fbc66744e4cbd2c4c492d62425b429832739986aced6760469bf6a35"
  },
  "kernelspec": {
   "display_name": "Python 3.8.13 ('modsem')",
   "language": "python",
   "name": "python3"
  },
  "language_info": {
   "codemirror_mode": {
    "name": "ipython",
    "version": 3
   },
   "file_extension": ".py",
   "mimetype": "text/x-python",
   "name": "python",
   "nbconvert_exporter": "python",
   "pygments_lexer": "ipython3",
   "version": "3.10.0"
  },
  "orig_nbformat": 4
 },
 "nbformat": 4,
 "nbformat_minor": 2
}
