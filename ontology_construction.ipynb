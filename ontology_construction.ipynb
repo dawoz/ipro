{
 "cells": [
  {
   "cell_type": "markdown",
   "metadata": {},
   "source": [
    "# IPRO construction"
   ]
  },
  {
   "cell_type": "code",
   "execution_count": 1,
   "metadata": {},
   "outputs": [
    {
     "name": "stderr",
     "output_type": "stream",
     "text": [
      "* Owlready2 * Warning: optimized Cython parser module 'owlready2_optimized' is not available, defaulting to slower Python implementation\n"
     ]
    }
   ],
   "source": [
    "import owlready2 as owl\n",
    "import types\n",
    "import json\n",
    "import re\n",
    "from pprint import pprint as pp\n",
    "from num2words import num2words\n",
    "from unidecode import unidecode"
   ]
  },
  {
   "cell_type": "markdown",
   "metadata": {},
   "source": [
    "## Load base Ontology\n",
    "handcrafted"
   ]
  },
  {
   "cell_type": "code",
   "execution_count": 2,
   "metadata": {},
   "outputs": [
    {
     "name": "stdout",
     "output_type": "stream",
     "text": [
      "##### get_ontology(\"http://www.semanticweb.org/ipro#\")\n",
      "[ipro.Release, ipro.Album, ipro.Band, ipro.Bass, ipro.MusicalInstrument, ipro.Bassist, ipro.Musician, ipro.Discography, ipro.Drummer, ipro.Genre, ipro.Guitar, ipro.Guitarist, ipro.Keyboard, ipro.Keyboardist, ipro.Organ, ipro.Participation, ipro.Percussions, ipro.Piano, ipro.Singer, ipro.Song, ipro.Synthesizer, ipro.Vocals]\n",
      "[ipro.ofAlbum] \n",
      "\n",
      "##### get_ontology(\"http://www.ontologydesignpatterns.org/cp/owl/list.owl#\")\n",
      "[list.List, list.ListItem]\n",
      "[list.lastItemOf, list.hasLastItem, list.firstItemOf, list.nextItem, list.previousItem, list.hasFirstItem] \n",
      "\n",
      "##### get_ontology(\"http://www.ontologydesignpatterns.org/cp/owl/bag.owl#\")\n",
      "[bag.Item, bag.Bag]\n",
      "[bag.size, bag.itemContent, bag.itemOf, bag.hasItem] \n",
      "\n",
      "##### get_ontology(\"http://www.ontologydesignpatterns.org/cp/owl/sequence.owl#\")\n",
      "[owl.Thing]\n",
      "[sequence.directlyFollows, sequence.directlyPrecedes, sequence.follows, sequence.precedes, rdf-schema.comment, rdf-schema.label, rdf-schema.isDefinedBy, owl.versionInfo, cpannotationschema.coversRequirements, cpannotationschema.hasAuthor, cpannotationschema.hasIntent, cpannotationschema.extractedFrom, cpannotationschema.hasConsequences] \n",
      "\n"
     ]
    }
   ],
   "source": [
    "ipro = owl.get_ontology(\"file://ipro.owl\").load()\n",
    "print('#####', ipro)\n",
    "print(list(ipro.classes()))\n",
    "print(list(ipro.properties()),'\\n')\n",
    "\n",
    "list_onto = ipro.imported_ontologies[0]\n",
    "print('#####', list_onto)\n",
    "print(list(list_onto.classes()))\n",
    "print(list(list_onto.properties()),'\\n')\n",
    "\n",
    "bag_onto = list_onto.imported_ontologies[0]\n",
    "print('#####', bag_onto)\n",
    "print(list(bag_onto.classes()))\n",
    "print(list(bag_onto.properties()),'\\n')\n",
    "\n",
    "sequence_onto = list_onto.imported_ontologies[1]\n",
    "print('#####', sequence_onto)\n",
    "print(list(sequence_onto.classes()))\n",
    "print(list(sequence_onto.properties()),'\\n')"
   ]
  },
  {
   "cell_type": "markdown",
   "metadata": {},
   "source": [
    "### Helper function to generate identifiers"
   ]
  },
  {
   "cell_type": "code",
   "execution_count": 3,
   "metadata": {},
   "outputs": [],
   "source": [
    "def str2identifier(s):\n",
    "    s_ = unidecode(s)\n",
    "    s_ = re.sub(r'[^a-zA-Z0-9\\'\\-_ ]', r'', s_)\n",
    "    s_ = re.sub(r'[\\'\\- ]+', r'_', s_)\n",
    "    assert '__' not in s_\n",
    "    return s_.strip('_')"
   ]
  },
  {
   "cell_type": "markdown",
   "metadata": {},
   "source": [
    "## Insert bands and discographies"
   ]
  },
  {
   "cell_type": "code",
   "execution_count": 4,
   "metadata": {},
   "outputs": [
    {
     "name": "stdout",
     "output_type": "stream",
     "text": [
      "[ipro.Acqua_Fragile, ipro.Alphataurus, ipro.Analogy, ipro.Area, ipro.Arti_e_Mestieri, ipro.Banco_del_Mutuo_Soccorso, ipro.Blocco_Mentale, ipro.Cervello, ipro.De_De_Lind, ipro.Formula_3]\n"
     ]
    }
   ],
   "source": [
    "with open('wikidata/artists.json', 'r') as f:\n",
    "    wikidata_artists = json.load(f)\n",
    "\n",
    "with open('discogs/artists.json', 'r') as f:\n",
    "    tmp = json.load(f)\n",
    "    discogs_artists = {e['discogsID']: e['artist'] for e in tmp}\n",
    "\n",
    "with open('progarchives/biographies.json', 'r') as f:\n",
    "    progarchives_bios = json.load(f)\n",
    "\n",
    "with ipro:\n",
    "    class wikidataIri(owl.Thing >> str, owl.FunctionalProperty, owl.InverseFunctionalProperty): pass\n",
    "    class discogsId(owl.Thing >> str, owl.FunctionalProperty, owl.InverseFunctionalProperty): pass\n",
    "    class progarchivesId(owl.Thing >> str, owl.FunctionalProperty, owl.InverseFunctionalProperty): pass\n",
    "    class imageUrl(owl.Thing >> str): pass\n",
    "\n",
    "    class activeSinceYear(ipro.Band >> int, owl.FunctionalProperty): pass\n",
    "    class discography(ipro.Band >> ipro.Discography, owl.FunctionalProperty): pass\n",
    "    class discographyOf(ipro.Discography >> ipro.Band, owl.FunctionalProperty):\n",
    "        inverse_property = ipro.discography\n",
    "\n",
    "    for artist in wikidata_artists:\n",
    "        band = ipro.Band(str2identifier(artist['itemLabel']['value']))\n",
    "        band.wikidataIri = artist['item']['value']\n",
    "        band.discogsId = artist['discogsId']['value']\n",
    "        band.progarchivesId = artist['progarchivesId']['value']\n",
    "        band.comment = [owl.locstr(progarchives_bios[band.progarchivesId], lang = 'en')]\n",
    "        band.label = [owl.locstr(discogs_artists[band.discogsId]['name'], lang = 'en')]\n",
    "        band.activeSinceYear = int(artist['inizio']['value'].split('-')[0])\n",
    "        band.imageUrl.append(discogs_artists[band.discogsId]['images'][0]['uri'])\n",
    "\n",
    "        band.discography = ipro.Discography(str2identifier(artist['itemLabel']['value']) + '_discography')\n",
    "        band.discography.label = [owl.locstr(f'Discography of {band.label[0]}', lang = 'en')]\n",
    "        band.discography.comment = [owl.locstr(f'Discography of Italian progressive rock band {band.label[0]}', lang = 'en')]\n",
    "\n",
    "print(list(ipro.Band.instances())[:10])"
   ]
  },
  {
   "cell_type": "code",
   "execution_count": 5,
   "metadata": {},
   "outputs": [
    {
     "name": "stdout",
     "output_type": "stream",
     "text": [
      "ipro.Acqua_Fragile\n",
      "['Founded in Parma, Italy in 1971 - Disbanded in 1975 - Reformed 2004-2006 and in 2017 as \"Acqua Fragile Project\".\\nThey are perhaps best known for the band that were to supply PFM\\'s English singing vocalist Bernado Lanzetti, making his debut with them on Chocolate Kings.\\nLanzetti with guitarist Gino Campanini and drummer Piero Canavera had played together in Gli Immortali. Joined on keyboards by Maurizio Mori and bassist Franz Dondi, formerly of I Moschettieri, who released a single in 1967, they shortly changed their name to ACQUA FRAGILE.\\nIt was to be two years before their eponymous debut album saw the light of day, due to difficulty in finding a record company that would allow them to release it with English sung lyrics. Musically they bore a resemblance to GENESIS and GENTLE GIANT, with harmony vocals not unlike CROSBY, STILLS, NASH AND YOUNG, no doubt influenced by the time Lanzetti spent in the USA. Lanzetti\\'s vocals have a similar feel to Roger Chapman of FAMILY and the album is skilfully played by the already at the time, well versed players. The plan to sing in English backfired as it wasn\\'t well received in Italy and didn\\'t receive a release abroad. Undeterred, their second album Mass Media Stars, released in 1974 saw the band treading similar musical territory and did receive a release in the USA.\\nMori quit and was replaced by ex-THE TRIP keyboardist Joe Vescovi and shortly after a bigger blow came when Lanzetti left for PFM. The band soldiered on for a while longer bringing in former I TOP 4 and I DIK DIK man Roberto Facini. Lanzetti remained with PFM until 1980 followed by a successful solo career. He is now a member of MANGALA VALLIS. Canavera and Dondi went on to play with ROCKY\\'S FILJ and the ACQUA FRAGILE name has recently been reborn as the ACQUA FRAGILE PROJECT by Dondi. He is the only original member participating in the project.']\n",
      "en\n",
      "['Acqua Fragile']\n",
      "en\n",
      "http://www.wikidata.org/entity/Q1056857\n",
      "1136505\n",
      "5\n",
      "1971\n",
      "['https://i.discogs.com/MpxhtEsg2xyg41bTtCv8fdMRdpjPLCPPaX701Z6tEOU/rs:fit/g:sm/q:90/h:468/w:494/czM6Ly9kaXNjb2dz/LWRhdGFiYXNlLWlt/YWdlcy9BLTExMzY1/MDUtMTI0MTA0MzA3/NS5qcGVn.jpeg']\n",
      "ipro.Acqua_Fragile_discography\n"
     ]
    }
   ],
   "source": [
    "# print all info of Acqua Fragile\n",
    "print(ipro.Acqua_Fragile)\n",
    "print(ipro.Acqua_Fragile.comment)\n",
    "print(ipro.Acqua_Fragile.comment[0].lang)\n",
    "print(ipro.Acqua_Fragile.label)\n",
    "print(ipro.Acqua_Fragile.label[0].lang)\n",
    "print(ipro.Acqua_Fragile.wikidataIri)\n",
    "print(ipro.Acqua_Fragile.discogsId)\n",
    "print(ipro.Acqua_Fragile.progarchivesId)\n",
    "print(ipro.Acqua_Fragile.activeSinceYear)\n",
    "print(ipro.Acqua_Fragile.imageUrl)\n",
    "print(ipro.Acqua_Fragile.discography)"
   ]
  },
  {
   "cell_type": "markdown",
   "metadata": {},
   "source": [
    "## Insert genres"
   ]
  },
  {
   "cell_type": "code",
   "execution_count": 6,
   "metadata": {},
   "outputs": [],
   "source": [
    "with open('discogs/genres.json', 'r') as f:\n",
    "    genres = json.load(f)\n",
    "\n",
    "with ipro:\n",
    "    for gen, comment in genres.items():\n",
    "        genre_name = gen.replace('+',' ').title()\n",
    "        genre = ipro.Genre(str2identifier(genre_name))\n",
    "        genre.label = [owl.locstr(genre_name, lang = 'en')]\n",
    "        genre.comment = [owl.locstr(comment, lang = 'en')]"
   ]
  },
  {
   "cell_type": "markdown",
   "metadata": {},
   "source": [
    "## Insert albums"
   ]
  },
  {
   "cell_type": "code",
   "execution_count": 7,
   "metadata": {},
   "outputs": [],
   "source": [
    "#################################\n",
    "#         MANUAL FIXES          #\n",
    "#################################\n",
    "\n",
    "# with open('discogs/releases.json', 'r') as f:\n",
    "#     discogs_id2releases = {e['discogsID']: e['releases'] for e in json.load(f)}\n",
    "\n",
    "# with open('discogs/release_details.json', 'r') as f:\n",
    "#     discogs_id2release_details = {e['releaseID']: e['master'] for e in json.load(f)}\n",
    "\n",
    "# with open('progarchives/albums.json', 'r') as f:\n",
    "#     progarchives_id2albums = json.load(f)\n",
    "\n",
    "# with open('progarchives/map2discogs_id.json', 'r') as f:\n",
    "#     progarchives2discogs_id = json.load(f)\n",
    "\n",
    "# for band in ipro.Band.instances():\n",
    "#     for progarchives_album in progarchives_id2albums[band.progarchivesId]:\n",
    "#         if progarchives_album['progarchivesId'] in progarchives2discogs_id:\n",
    "#             continue\n",
    "#         try:\n",
    "#             discogs_album = [rel for rel in discogs_id2releases[band.discogsId] if str2identifier(progarchives_album['title']) in str2identifier(rel['title'])][0]\n",
    "#             progarchives2discogs_id[progarchives_album['progarchivesId']] = discogs_album['id']\n",
    "#         except IndexError:\n",
    "#             progarchives2discogs_id[progarchives_album['progarchivesId']] = f'FIX ##################### {band.label[0]} - {progarchives_album[\"title\"]}'\n",
    "\n",
    "# with open('progarchives/map2discogs_id.json', 'w+') as f:\n",
    "#     json.dump(progarchives2discogs_id, f)"
   ]
  },
  {
   "cell_type": "code",
   "execution_count": 8,
   "metadata": {},
   "outputs": [],
   "source": [
    "with open('progarchives/map2discogs_id.json', 'r') as f:\n",
    "    progarchives2discogs_id = json.load(f)\n",
    "\n",
    "with open('discogs/release_details.json', 'r') as f:\n",
    "    tmp = json.load(f)\n",
    "    discogs_releases = {e['releaseID']: e['master'] for e in tmp}\n",
    "    del tmp\n",
    "\n",
    "with open('progarchives/albums.json', 'r') as f:\n",
    "    progarchives_id2albums = json.load(f)\n",
    "\n",
    "with ipro:\n",
    "    class containsRelease(ipro.Discography >> ipro.Release, bag_onto.hasItem): pass\n",
    "    class releaseOf(owl.ObjectProperty):\n",
    "        inverse_property = ipro.containsRelease\n",
    "    class previousRelease(ipro.Release >> ipro.Release, list_onto.previousItem, owl.FunctionalProperty): pass\n",
    "    class nextRelease(ipro.Release >> ipro.Release, list_onto.nextItem, owl.FunctionalProperty):\n",
    "        inverse_property = ipro.previousRelease\n",
    "    class releaseYear(ipro.Release >> int, owl.FunctionalProperty): pass\n",
    "\n",
    "    class hasGenre(ipro.Album >> ipro.Genre): pass    \n",
    "\n",
    "    ipro.Discography.equivalent_to.append(ipro.containsRelease.some(ipro.Release))\n",
    "\n",
    "    for band in ipro.Band.instances():\n",
    "        prev_release = None\n",
    "        for i, rel in enumerate(progarchives_id2albums[band.progarchivesId]):\n",
    "            album_name = discogs_releases[progarchives2discogs_id[rel['progarchivesId']]]['title']\n",
    "            release = ipro.Release(str2identifier(album_name) + '_release')\n",
    "            release.label = [owl.locstr(album_name + ' studio release', lang = 'en')]\n",
    "            release.comment = [owl.locstr(f'{release.label[0]} is the {num2words(i+1, ordinal=True)} release of {band.label[0]}, published in {rel[\"year\"]}', lang = 'en')]\n",
    "            release.releaseYear = rel['year']\n",
    "\n",
    "            band.discography.containsRelease.append(release)\n",
    "\n",
    "            album = ipro.Album(str2identifier(album_name) + '_album')\n",
    "            album.label = [owl.locstr(album_name, lang = 'en')]\n",
    "            album.comment = [owl.locstr(f'{album.label[0]} is the {num2words(i+1, ordinal=True)} album of {band.label[0]} released in {rel[\"year\"]}', lang = 'en')]\n",
    "            album.progarchivesId = rel['progarchivesId']\n",
    "            album.discogsId = str(progarchives2discogs_id[rel['progarchivesId']])\n",
    "            \n",
    "            image_url = discogs_releases[progarchives2discogs_id[rel['progarchivesId']]]['images'][0]['uri']\n",
    "            if image_url:\n",
    "                album.imageUrl = [image_url]\n",
    "            \n",
    "            genres = discogs_releases[progarchives2discogs_id[rel['progarchivesId']]]['genres'] + discogs_releases[progarchives2discogs_id[rel['progarchivesId']]]['styles']\n",
    "            for g in genres:\n",
    "                g_name = str2identifier(g.title())\n",
    "                if not ipro[g_name]:\n",
    "                    print(g_name)\n",
    "                album.hasGenre.append(ipro[g_name])\n",
    "\n",
    "            release.ofAlbum = album\n",
    "\n",
    "            if prev_release:\n",
    "                assert prev_release.releaseYear <= release.releaseYear, \"Previous album release year is greater than current album release year\"\n",
    "                prev_release.nextRelease = release\n",
    "\n",
    "            prev_release = release\n",
    "\n",
    "# owl.sync_reasoner_hermit(ipro)\n"
   ]
  },
  {
   "cell_type": "code",
   "execution_count": 9,
   "metadata": {},
   "outputs": [],
   "source": [
    "ipro.save('ipro_generated.owl')"
   ]
  }
 ],
 "metadata": {
  "interpreter": {
   "hash": "5383bea7fbc66744e4cbd2c4c492d62425b429832739986aced6760469bf6a35"
  },
  "kernelspec": {
   "display_name": "Python 3.8.13 ('modsem')",
   "language": "python",
   "name": "python3"
  },
  "language_info": {
   "codemirror_mode": {
    "name": "ipython",
    "version": 3
   },
   "file_extension": ".py",
   "mimetype": "text/x-python",
   "name": "python",
   "nbconvert_exporter": "python",
   "pygments_lexer": "ipython3",
   "version": "3.10.0"
  },
  "orig_nbformat": 4
 },
 "nbformat": 4,
 "nbformat_minor": 2
}
