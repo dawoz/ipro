{
 "cells": [
  {
   "cell_type": "code",
   "execution_count": 3,
   "metadata": {},
   "outputs": [],
   "source": [
    "try:\n",
    "    with open('discord_token.txt', 'r') as f:\n",
    "        token = f.read()\n",
    "except FileNotFoundError:\n",
    "    print(\"No discogs_token.txt file found. Please create one with your discogs API token in it.\")"
   ]
  },
  {
   "cell_type": "markdown",
   "metadata": {},
   "source": [
    "# Data collection **Italian Progressive Rock Ontology**"
   ]
  },
  {
   "cell_type": "code",
   "execution_count": 4,
   "metadata": {},
   "outputs": [],
   "source": [
    "import time\n",
    "\n",
    "from tqdm import tqdm\n",
    "import requests\n",
    "from pprint import pp\n",
    "from bs4 import BeautifulSoup\n",
    "import json\n",
    "import os"
   ]
  },
  {
   "cell_type": "markdown",
   "metadata": {},
   "source": [
    "## Download artists from Wikidata\n",
    "\n",
    " Only italian progressive rock bands formed from 1966 to 1975"
   ]
  },
  {
   "cell_type": "code",
   "execution_count": 4,
   "metadata": {},
   "outputs": [],
   "source": [
    "def sparql_query(query):\n",
    "    url = 'https://query.wikidata.org/sparql'\n",
    "    r = requests.get(url, params = {'format': 'json', 'query': query})\n",
    "    return r.json()"
   ]
  },
  {
   "cell_type": "code",
   "execution_count": 5,
   "metadata": {},
   "outputs": [],
   "source": [
    "get_artists = '''\n",
    "SELECT ?item ?itemLabel ?inizio ?discogsId ?progarchivesId WHERE {\n",
    "  ?item wdt:P31 wd:Q215380.\n",
    "  SERVICE wikibase:label { bd:serviceParam wikibase:language \"[AUTO_LANGUAGE],en\". }\n",
    "  ?item wdt:P136 wd:Q49451;\n",
    "    wdt:P495 wd:Q38;\n",
    "    wdt:P2031 ?inizio.\n",
    "  FILTER((?inizio >= \"1966-01-01T00:00:00Z\"^^xsd:dateTime) && (?inizio < \"1975-01-01T00:00:00Z\"^^xsd:dateTime))\n",
    "  OPTIONAL { ?item wdt:P1953 ?discogsId. }\n",
    "  OPTIONAL { ?item wdt:P7670 ?progarchivesId. }\n",
    "}\n",
    "ORDER BY (?itemLabel)\n",
    "LIMIT 100\n",
    "'''\n",
    "\n",
    "result = sparql_query(get_artists)\n",
    "artist_list = result['results']['bindings']\n",
    "\n",
    "os.makedirs('wikidata', exist_ok=True)\n",
    "with open('wikidata/artists.json', 'w+') as f:\n",
    "    json.dump(artist_list, f)"
   ]
  },
  {
   "cell_type": "markdown",
   "metadata": {},
   "source": [
    "## Download releases from Discogs\n",
    "\n",
    "Only *Main release* published from 1966 to 1975"
   ]
  },
  {
   "cell_type": "code",
   "execution_count": 49,
   "metadata": {},
   "outputs": [],
   "source": [
    "def discogs_query_artist_releases(artist_id):\n",
    "    releases = []\n",
    "    n_page = 1\n",
    "    num_pages = 1\n",
    "    while n_page <= num_pages:\n",
    "        r = requests.get(f'https://api.discogs.com/artists/{artist_id}/releases?page={n_page}&token={token}')\n",
    "        if r.status_code != 200:\n",
    "            raise Exception(f'Error: {r.status_code}, {r.content}, {r.url}, {r.headers}')\n",
    "        json = r.json()\n",
    "        releases.extend([r for r in json['releases'] if r['role'] == 'Main' and 'year' in r and 1966 <= r['year'] <= 1975 and r['type'] == 'master'])\n",
    "        num_pages = json['pagination']['pages']\n",
    "        n_page += 1\n",
    "    return releases"
   ]
  },
  {
   "cell_type": "code",
   "execution_count": 50,
   "metadata": {},
   "outputs": [
    {
     "name": "stderr",
     "output_type": "stream",
     "text": [
      "100%|██████████| 34/34 [01:50<00:00,  3.26s/it]\n"
     ]
    }
   ],
   "source": [
    "with open('wikidata/artists.json', 'r') as f:\n",
    "    artists = json.load(f)\n",
    "\n",
    "    releases = []\n",
    "\n",
    "    for artist in tqdm(artists):\n",
    "        releases.append({\n",
    "            'discogsID': artist['discogsId']['value'],\n",
    "            'releases': discogs_query_artist_releases(artist['discogsId']['value'])\n",
    "            })\n",
    "        time.sleep(1)\n",
    "\n",
    "    os.makedirs('discogs', exist_ok=True)\n",
    "    with open('discogs/releases.json', 'w+') as out:\n",
    "        json.dump(releases, out)"
   ]
  },
  {
   "cell_type": "markdown",
   "metadata": {},
   "source": [
    "## Download master releases from Discogs\n",
    "\n",
    "Download complete information about a main release"
   ]
  },
  {
   "cell_type": "code",
   "execution_count": 23,
   "metadata": {},
   "outputs": [],
   "source": [
    "def discogs_query_resource_url(obj):\n",
    "    r = requests.get(obj['resource_url'] + f'?token={token}')\n",
    "    if r.status_code != 200:\n",
    "        raise Exception(f'Error: {r.status_code}, {r.content}, {r.url}, {r.headers}\\nObject: {obj}')\n",
    "    return r.json()\n",
    "    "
   ]
  },
  {
   "cell_type": "code",
   "execution_count": 19,
   "metadata": {},
   "outputs": [
    {
     "name": "stderr",
     "output_type": "stream",
     "text": [
      "100%|██████████| 35/35 [06:19<00:00, 10.86s/it]\n"
     ]
    }
   ],
   "source": [
    "release_details_list = []\n",
    "with open('discogs/releases.json', 'r') as f:\n",
    "    releases = json.load(f)\n",
    "   \n",
    "    for artist_releases in tqdm(releases):\n",
    "        for release in artist_releases['releases']:\n",
    "            release_details_list.append({\n",
    "                'releaseID': release['id'],\n",
    "                'master': discogs_query_resource_url(release)\n",
    "                })\n",
    "            time.sleep(1)\n",
    "    \n",
    "    with open('discogs/release_details.json', 'w+') as out:\n",
    "        json.dump(release_details_list, out)"
   ]
  },
  {
   "cell_type": "markdown",
   "metadata": {},
   "source": [
    "## Download artist information from Discogs"
   ]
  },
  {
   "cell_type": "code",
   "execution_count": 20,
   "metadata": {},
   "outputs": [],
   "source": [
    "def discogs_query_artist(artist_id):\n",
    "    r = requests.get(f'https://api.discogs.com/artists/{artist_id}?token={token}')\n",
    "    if r.status_code != 200:\n",
    "        raise Exception(f'Error: {r.status_code}, {r.content}, {r.url}, {r.headers}')\n",
    "    return r.json()"
   ]
  },
  {
   "cell_type": "code",
   "execution_count": 21,
   "metadata": {},
   "outputs": [
    {
     "name": "stderr",
     "output_type": "stream",
     "text": [
      "100%|██████████| 35/35 [00:18<00:00,  1.91it/s]\n"
     ]
    }
   ],
   "source": [
    "with open('wikidata/artists.json', 'r') as f:\n",
    "    artist_list_discogs = []\n",
    "    num_requests = 0\n",
    "\n",
    "    for artist in tqdm(artist_list):\n",
    "        artist_list_discogs.append({\n",
    "            'discogsID': artist['discogsId']['value'],\n",
    "            'artist': discogs_query_artist(artist['discogsId']['value'])\n",
    "            })\n",
    "\n",
    "    with open('discogs/artists.json', 'w+') as out:\n",
    "        json.dump(artist_list_discogs, out)"
   ]
  },
  {
   "cell_type": "markdown",
   "metadata": {},
   "source": [
    "## Download members information"
   ]
  },
  {
   "cell_type": "code",
   "execution_count": 29,
   "metadata": {},
   "outputs": [
    {
     "name": "stderr",
     "output_type": "stream",
     "text": [
      "100%|██████████| 35/35 [04:41<00:00,  8.04s/it]\n"
     ]
    }
   ],
   "source": [
    "artist_details_discogs = []\n",
    "\n",
    "with open('discogs/artists.json', 'r') as f:\n",
    "    artist_list = json.load(f)\n",
    "\n",
    "    for artist in tqdm(artist_list):\n",
    "        for member in artist['artist']['members']:\n",
    "            try:\n",
    "                m = discogs_query_resource_url(member)\n",
    "            except Exception:\n",
    "                m = None\n",
    "\n",
    "            artist_details_discogs.append({\n",
    "                'discogsID': member['id'],\n",
    "                'mermber': m\n",
    "                })\n",
    "            time.sleep(1)\n",
    "\n",
    "    with open('discogs/members.json', 'w+') as out:\n",
    "        json.dump(artist_details_discogs, out)"
   ]
  },
  {
   "cell_type": "markdown",
   "metadata": {},
   "source": [
    "## Download start time of band members from Wikidata"
   ]
  },
  {
   "cell_type": "code",
   "execution_count": 27,
   "metadata": {},
   "outputs": [
    {
     "name": "stderr",
     "output_type": "stream",
     "text": [
      "100%|██████████| 35/35 [00:47<00:00,  1.35s/it]\n"
     ]
    }
   ],
   "source": [
    "band_members = dict()\n",
    "\n",
    "with open('wikidata/artists.json', 'r') as f:\n",
    "    artist_list = json.load(f)\n",
    "\n",
    "    for artist in tqdm(artist_list):\n",
    "        wikidata_id = artist['item']['value'].split('/')[-1]\n",
    "\n",
    "        query = \"\"\"\n",
    "                SELECT ?member ?memberLabel (YEAR(?start) AS ?year) ?discogsId WHERE {\n",
    "                SERVICE wikibase:label { bd:serviceParam wikibase:language \"[AUTO_LANGUAGE],en\". }\n",
    "                wd:\"\"\"+ wikidata_id + \"\"\" p:P527 ?statement. # musical_group\n",
    "                ?statement ps:P527 ?member; # has_part ?member\n",
    "                    pq:P580 ?start. # start_time ?start\n",
    "                FILTER((?start >= \"1966-01-01T00:00:00Z\"^^xsd:dateTime) && (?start < \"1975-01-01T00:00:00Z\"^^xsd:dateTime))\n",
    "                OPTIONAL { ?member wdt:P1953 ?discogsId. }\n",
    "                }\n",
    "                LIMIT 1000\n",
    "                \"\"\"\n",
    "\n",
    "        result = sparql_query(query)\n",
    "        band_members[wikidata_id] = result['results']['bindings']\n",
    "        time.sleep(1)\n",
    "    \n",
    "    with open('wikidata/members.json', 'w+') as out:\n",
    "        json.dump(band_members, out)\n",
    "        "
   ]
  },
  {
   "cell_type": "markdown",
   "metadata": {},
   "source": [
    "## Scrape genres information from Discogs"
   ]
  },
  {
   "cell_type": "code",
   "execution_count": 34,
   "metadata": {},
   "outputs": [],
   "source": [
    "def discogs_query_genre_and_style(genre_name):\n",
    "    r = requests.get(f'https://www.discogs.com/genre/{genre_name}')\n",
    "    if r.status_code != 200:\n",
    "        r = requests.get(f'https://www.discogs.com/style/{genre_name}')\n",
    "    if r.status_code != 200:\n",
    "        return None\n",
    "\n",
    "    soup = BeautifulSoup(r.content,'html.parser')\n",
    "    for a in soup.find_all('a', href=True):\n",
    "        if f'http://reference.discogs.com/' in a['href']:\n",
    "            lines = a.parent.text.split(f'Contribute')[0].strip().split('\\n')[1:]\n",
    "            return ' '.join(l for l in lines if 'Provided by Wikipedia under Creative Commons Attribution CC-BY-SA 4.0' not in l)"
   ]
  },
  {
   "cell_type": "code",
   "execution_count": 39,
   "metadata": {},
   "outputs": [
    {
     "name": "stderr",
     "output_type": "stream",
     "text": [
      "100%|██████████| 47/47 [01:46<00:00,  2.26s/it]\n"
     ]
    }
   ],
   "source": [
    "genres = set()\n",
    "\n",
    "with open('discogs/release_details.json', 'r') as f:\n",
    "    release_details = json.load(f)\n",
    "    for release in release_details:\n",
    "        for genre in release['master']['genres']:\n",
    "            genres.add(genre.lower().replace(' ', '+'))\n",
    "\n",
    "        if 'styles' in release['master']:    \n",
    "            for style in release['master']['styles']:\n",
    "                genres.add(style.lower().replace(' ', '+'))\n",
    "            \n",
    "genre_dict = dict()\n",
    "for genre in tqdm(genres):\n",
    "    genre_dict[genre] = discogs_query_genre_and_style(genre)\n",
    "    time.sleep(1)\n",
    "\n",
    "with open('discogs/genres.json', 'w+') as out:\n",
    "    json.dump(genre_dict, out)"
   ]
  },
  {
   "cell_type": "markdown",
   "metadata": {},
   "source": [
    "## Scrape Prog Archives artists from album"
   ]
  },
  {
   "cell_type": "code",
   "execution_count": 17,
   "metadata": {},
   "outputs": [],
   "source": [
    "import re\n",
    "\n",
    "def progarchives_album_id(artist_id, album_name):\n",
    "    r = requests.get(f'http://www.progarchives.com/artist.asp?id={artist_id}')\n",
    "    if r.status_code != 200:\n",
    "        raise Exception(f'Error: {r.status_code}, {r.content}, {r.url}, {r.headers}')\n",
    "\n",
    "    soup = BeautifulSoup(r.content,'html.parser')\n",
    "    for a in soup.find_all('a', href=True):\n",
    "        if 'album.asp' in a['href'] and '#' not in a['href'] and album_name in a.text:\n",
    "            return a['href'].split('=')[-1]\n",
    "\n",
    "def progarchives_query_members(album_id):\n",
    "    r = requests.get(f'http://www.progarchives.com/album.asp?id={album_id}')\n",
    "    if r.status_code != 200:\n",
    "        raise Exception(f'Error: {r.status_code}, {r.content}, {r.url}, {r.headers}')\n",
    "\n",
    "    soup = BeautifulSoup(r.content,'html.parser')\n",
    "    raw = ''\n",
    "    for p in soup.find_all('strong', text='Line-up / Musicians'):\n",
    "        raw = re.sub('<.*>','', str(p.find_next_sibling()).replace('<br/>', '\\n'))\n",
    "        break\n",
    "\n",
    "    try:\n",
    "        s = {l.strip()[1:].strip() for l in raw.split('\\n\\n')[0].strip().split('\\n') if l.strip() if l.strip()[0] == '-'}\n",
    "        return {l.split('/')[0].strip(): [role.strip() for role in l.split('/')[1].split(',') if role.strip()]  for l in s}\n",
    "    except Exception:\n",
    "        raise Exception(f'Error: {r.url}, {raw}')\n",
    "    "
   ]
  },
  {
   "cell_type": "code",
   "execution_count": 18,
   "metadata": {},
   "outputs": [
    {
     "name": "stderr",
     "output_type": "stream",
     "text": [
      "100%|██████████| 34/34 [08:36<00:00, 15.18s/it]\n"
     ]
    }
   ],
   "source": [
    "with open('wikidata/artists.json', 'r') as f:\n",
    "    artists = json.load(f)\n",
    "    progarchives_id = {a['discogsId']['value']: a['progarchivesId']['value'] for a in artists}\n",
    "    \n",
    "from collections import defaultdict\n",
    "artist_release_member = defaultdict(dict)\n",
    "with open('discogs/releases.json', 'r') as f:\n",
    "    releases_json = json.load(f)\n",
    "\n",
    "    for artist in tqdm(releases_json):\n",
    "        for release in artist['releases']:\n",
    "            artist_pa_id = progarchives_id[artist['discogsID']]\n",
    "            release_pa_id = progarchives_album_id(artist_pa_id, release['title'])\n",
    "            if release_pa_id is not None:\n",
    "                artist_release_member[artist_pa_id][release_pa_id] = progarchives_query_members(release_pa_id)\n",
    "\n",
    "os.makedirs('progarchives', exist_ok=True)\n",
    "with open('progarchives/members.json', 'w+') as out:\n",
    "    json.dump(artist_release_member, out)"
   ]
  }
 ],
 "metadata": {
  "interpreter": {
   "hash": "5383bea7fbc66744e4cbd2c4c492d62425b429832739986aced6760469bf6a35"
  },
  "kernelspec": {
   "display_name": "Python 3.10.0 ('modsem')",
   "language": "python",
   "name": "python3"
  },
  "language_info": {
   "codemirror_mode": {
    "name": "ipython",
    "version": 3
   },
   "file_extension": ".py",
   "mimetype": "text/x-python",
   "name": "python",
   "nbconvert_exporter": "python",
   "pygments_lexer": "ipython3",
   "version": "3.10.0"
  },
  "orig_nbformat": 4
 },
 "nbformat": 4,
 "nbformat_minor": 2
}
